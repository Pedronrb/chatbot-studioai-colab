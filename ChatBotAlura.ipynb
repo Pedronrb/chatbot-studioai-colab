{
  "nbformat": 4,
  "nbformat_minor": 0,
  "metadata": {
    "colab": {
      "provenance": [],
      "authorship_tag": "ABX9TyP6DlSAxvF7IurZws7rXDng",
      "include_colab_link": true
    },
    "kernelspec": {
      "name": "python3",
      "display_name": "Python 3"
    },
    "language_info": {
      "name": "python"
    }
  },
  "cells": [
    {
      "cell_type": "markdown",
      "metadata": {
        "id": "view-in-github",
        "colab_type": "text"
      },
      "source": [
        "<a href=\"https://colab.research.google.com/github/Pedronrb/chatbot-studioai-colab/blob/main/ChatBotAlura.ipynb\" target=\"_parent\"><img src=\"https://colab.research.google.com/assets/colab-badge.svg\" alt=\"Open In Colab\"/></a>"
      ]
    },
    {
      "cell_type": "code",
      "execution_count": 2,
      "metadata": {
        "id": "Uz5DyENrZJ5e"
      },
      "outputs": [],
      "source": [
        "!pip install -q -U google-generativeai"
      ]
    },
    {
      "cell_type": "code",
      "source": [
        "import google.generativeai as cabeca"
      ],
      "metadata": {
        "id": "b413NxeoZjrI"
      },
      "execution_count": 3,
      "outputs": []
    },
    {
      "cell_type": "code",
      "source": [
        "from google.colab import userdata\n",
        "\n",
        "GOOGLE_GEMINI_API_KEY = userdata.get(\"GOOGLE_GEMINI_API_KEY\")\n",
        "# Never share your API key!! You can pay for future service\n",
        "cabeca.configure(api_key=GOOGLE_GEMINI_API_KEY)"
      ],
      "metadata": {
        "id": "wU_bMCbMaOid"
      },
      "execution_count": 4,
      "outputs": []
    },
    {
      "cell_type": "code",
      "source": [
        "for m in cabeca.list_models():\n",
        "  if 'generateContent' in m.supported_generation_methods:\n",
        "    print(m.name)"
      ],
      "metadata": {
        "colab": {
          "base_uri": "https://localhost:8080/",
          "height": 770
        },
        "collapsed": true,
        "id": "IMpUGeP4buTG",
        "outputId": "502450e3-65fb-4dbd-942a-e60e33a62555"
      },
      "execution_count": 5,
      "outputs": [
        {
          "output_type": "stream",
          "name": "stdout",
          "text": [
            "models/gemini-1.0-pro-vision-latest\n",
            "models/gemini-pro-vision\n",
            "models/gemini-1.5-pro-latest\n",
            "models/gemini-1.5-pro-001\n",
            "models/gemini-1.5-pro-002\n",
            "models/gemini-1.5-pro\n",
            "models/gemini-1.5-flash-latest\n",
            "models/gemini-1.5-flash-001\n",
            "models/gemini-1.5-flash-001-tuning\n",
            "models/gemini-1.5-flash\n",
            "models/gemini-1.5-flash-002\n",
            "models/gemini-1.5-flash-8b\n",
            "models/gemini-1.5-flash-8b-001\n",
            "models/gemini-1.5-flash-8b-latest\n",
            "models/gemini-1.5-flash-8b-exp-0827\n",
            "models/gemini-1.5-flash-8b-exp-0924\n",
            "models/gemini-2.5-pro-exp-03-25\n",
            "models/gemini-2.5-pro-preview-03-25\n",
            "models/gemini-2.5-flash-preview-04-17\n",
            "models/gemini-2.5-flash-preview-04-17-thinking\n",
            "models/gemini-2.5-pro-preview-05-06\n",
            "models/gemini-2.0-flash-exp\n",
            "models/gemini-2.0-flash\n",
            "models/gemini-2.0-flash-001\n",
            "models/gemini-2.0-flash-exp-image-generation\n",
            "models/gemini-2.0-flash-lite-001\n",
            "models/gemini-2.0-flash-lite\n",
            "models/gemini-2.0-flash-preview-image-generation\n",
            "models/gemini-2.0-flash-lite-preview-02-05\n",
            "models/gemini-2.0-flash-lite-preview\n",
            "models/gemini-2.0-pro-exp\n",
            "models/gemini-2.0-pro-exp-02-05\n",
            "models/gemini-exp-1206\n",
            "models/gemini-2.0-flash-thinking-exp-01-21\n",
            "models/gemini-2.0-flash-thinking-exp\n",
            "models/gemini-2.0-flash-thinking-exp-1219\n",
            "models/learnlm-1.5-pro-experimental\n",
            "models/learnlm-2.0-flash-experimental\n",
            "models/gemma-3-1b-it\n",
            "models/gemma-3-4b-it\n",
            "models/gemma-3-12b-it\n",
            "models/gemma-3-27b-it\n"
          ]
        }
      ]
    },
    {
      "cell_type": "code",
      "source": [
        "model = cabeca.GenerativeModel(\"gemini-2.5-pro-exp-03-25\")"
      ],
      "metadata": {
        "id": "43bf2ybxcJzf"
      },
      "execution_count": 6,
      "outputs": []
    },
    {
      "cell_type": "code",
      "source": [
        "response = model.generate_content(\"Quem criou os modelos de IA do Gemini? \")\n",
        "print(response.text)"
      ],
      "metadata": {
        "colab": {
          "base_uri": "https://localhost:8080/",
          "height": 127
        },
        "id": "RzCVODSqdYDJ",
        "outputId": "e58e5c4e-9052-400a-d170-346f6cbca4aa"
      },
      "execution_count": 7,
      "outputs": [
        {
          "output_type": "stream",
          "name": "stdout",
          "text": [
            "Os modelos de IA Gemini foram criados pelo **Google**.\n",
            "\n",
            "Mais especificamente, eles são o resultado de um grande esforço colaborativo liderado pelo **Google DeepMind**, que uniu talentos do antigo Google Brain e outras equipes de pesquisa do Google.\n",
            "\n",
            "Portanto, a resposta curta é **Google**, e a resposta mais detalhada é **Google DeepMind** em colaboração com outras equipes do Google.\n"
          ]
        }
      ]
    },
    {
      "cell_type": "code",
      "source": [
        "chat = model.start_chat(history=[])\n",
        "\n",
        "prompt = input(\"Write your prompt or 'quit' to exit: \")\n",
        "\n",
        "while prompt != \"quit\":\n",
        "    response = chat.send_message(prompt)\n",
        "    print(response.text)\n",
        "    prompt = input(\"Prompt: \")\n",
        "\n",
        "print(\"Off chat\")\n"
      ],
      "metadata": {
        "colab": {
          "base_uri": "https://localhost:8080/",
          "height": 1000
        },
        "id": "DRMZretNdxVx",
        "outputId": "f86bcdcc-65b3-425c-c8f1-0413221dfd58"
      },
      "execution_count": 9,
      "outputs": [
        {
          "output_type": "stream",
          "name": "stdout",
          "text": [
            "Write your prompt or 'quit' to exit: O que é samsungnotes? \n",
            "**Samsung Notes** é um aplicativo de anotações versátil e poderoso desenvolvido pela Samsung, projetado principalmente para seus dispositivos Galaxy (smartphones, tablets e alguns notebooks). Ele permite que os usuários criem e gerenciem notas de diversas formas.\n",
            "\n",
            "Pense nele como um caderno digital avançado.\n",
            "\n",
            "**Principais funcionalidades e características do Samsung Notes:**\n",
            "\n",
            "1.  **Criação de Notas:**\n",
            "    *   **Texto:** Digite notas usando o teclado.\n",
            "    *   **Escrita à mão com a S Pen:** Uma das suas funcionalidades mais fortes, especialmente em dispositivos com a S Pen (como a linha Galaxy Note, Tab S, e alguns Galaxy S Ultra). Permite anotações naturais que podem ser convertidas em texto digital pesquisável.\n",
            "    *   **Desenho e Esboços:** Ferramentas de caneta, pincel, cores e formas para criar desenhos ou ilustrações rápidas.\n",
            "    *   **Gravações de Voz:** Grave áudio e anexe às suas notas. Algumas versões sincronizam a escrita com o áudio gravado.\n",
            "\n",
            "2.  **Inserção de Multimídia:**\n",
            "    *   Adicione imagens da galeria ou tiradas na hora.\n",
            "    *   Anexe arquivos PDF diretamente às suas notas para anotação.\n",
            "\n",
            "3.  **Organização:**\n",
            "    *   **Pastas:** Crie pastas para categorizar suas notas.\n",
            "    *   **Etiquetas (Tags):** Adicione tags para facilitar a busca.\n",
            "    *   **Busca:** Pesquise por texto digitado, texto manuscrito (após conversão ou indexação) e até mesmo por conteúdo dentro de PDFs anexados.\n",
            "\n",
            "4.  **Ferramentas e Personalização:**\n",
            "    *   **Canetas e Pincéis:** Diversos tipos, espessuras e cores.\n",
            "    *   **Marca-texto:** Destaque informações importantes.\n",
            "    *   **Modelos (Templates):** Use modelos pré-definidos para diferentes tipos de notas (listas de tarefas, atas de reunião, etc.).\n",
            "    *   **Zoom:** Aproxime para escrever ou desenhar com mais detalhes.\n",
            "    *   **Modo Escuro:** Para visualização mais confortável em ambientes com pouca luz.\n",
            "\n",
            "5.  **Sincronização e Compartilhamento:**\n",
            "    *   **Samsung Cloud:** Sincronize suas notas entre seus dispositivos Samsung.\n",
            "    *   **Microsoft OneNote (Integração opcional):** Em algumas configurações, é possível sincronizar com o OneNote.\n",
            "    *   **Exportação:** Exporte notas como arquivos PDF, Microsoft Word, arquivos de imagem ou texto.\n",
            "    *   **Compartilhamento:** Compartilhe notas facilmente com outros aplicativos.\n",
            "\n",
            "6.  **Recursos Especiais com a S Pen:**\n",
            "    *   **Screen Off Memo (Nota com tela apagada):** Comece a escrever na tela bloqueada assim que retirar a S Pen.\n",
            "    *   **Air Actions:** Use gestos com a S Pen para controlar o aplicativo (disponível em alguns modelos).\n",
            "    *   **Conversão de Manuscrito para Texto:** Transforme suas anotações à mão em texto editável.\n",
            "\n",
            "**Para que serve?**\n",
            "\n",
            "*   **Estudantes:** Fazer anotações em aula, resolver problemas, desenhar diagramas, anotar em PDFs de livros ou artigos.\n",
            "*   **Profissionais:** Tomar notas em reuniões, criar listas de tarefas, esboçar ideias, revisar documentos.\n",
            "*   **Uso Pessoal:** Criar listas de compras, registrar pensamentos, guardar receitas, planejar viagens.\n",
            "\n",
            "Em resumo, o Samsung Notes é uma ferramenta robusta para capturar, organizar e gerenciar informações de maneira digital, com um forte foco na integração com a S Pen para uma experiência de escrita e desenho mais natural. Ele vem pré-instalado na maioria dos dispositivos Samsung Galaxy.\n",
            "Prompt: Resuma\n",
            "**Em resumo, Samsung Notes é:**\n",
            "\n",
            "Um **aplicativo de anotações da Samsung**, como um **caderno digital versátil**, para seus dispositivos Galaxy (celulares, tablets, etc.).\n",
            "\n",
            "**Principais funções:**\n",
            "*   **Criar notas:** com texto, escrita à mão (especialmente com a S Pen), desenhos e gravações de voz.\n",
            "*   **Adicionar:** imagens e PDFs.\n",
            "*   **Organizar:** com pastas e etiquetas.\n",
            "*   **Sincronizar:** entre seus aparelhos Samsung.\n",
            "\n",
            "É ideal para estudantes, profissionais e uso pessoal, permitindo capturar, organizar e gerenciar informações de forma digital e eficiente.\n",
            "Prompt: quit\n",
            "Off chat\n"
          ]
        }
      ]
    }
  ]
}